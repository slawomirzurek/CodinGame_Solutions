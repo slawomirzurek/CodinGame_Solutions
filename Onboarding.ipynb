{
  "nbformat": 4,
  "nbformat_minor": 0,
  "metadata": {
    "colab": {
      "name": "Onboarding.ipynb",
      "provenance": []
    },
    "kernelspec": {
      "name": "python3",
      "display_name": "Python 3"
    },
    "language_info": {
      "name": "python"
    }
  },
  "cells": [
    {
      "cell_type": "code",
      "execution_count": null,
      "metadata": {
        "id": "4RtF-A9H4H5K"
      },
      "outputs": [],
      "source": [
        "import sys\n",
        "import math\n",
        "\n",
        "# CodinGame planet is being attacked by slimy insectoid aliens.\n",
        "# <---\n",
        "# Hint:To protect the planet, you can implement the pseudo-code provided in the statement, below the player.\n",
        "\n",
        "\n",
        "# game loop\n",
        "while True:\n",
        "    enemy_1 = input()  # name of enemy 1\n",
        "    dist_1 = int(input())  # distance to enemy 1\n",
        "    enemy_2 = input()  # name of enemy 2\n",
        "    dist_2 = int(input())  # distance to enemy 2\n",
        "    # Write an action using print\n",
        "    # To debug: print(\"Debug messages...\", file=sys.stderr)\n",
        "    if dist_1 > dist_2:\n",
        "        enemy_name = enemy_2\n",
        "    else:\n",
        "        enemy_name = enemy_1\n",
        "\n",
        "    # You have to output a correct ship name to shoot (\"Buzz\", enemy1, enemy2, ...)\n",
        "    print(enemy_name)"
      ]
    }
  ]
}