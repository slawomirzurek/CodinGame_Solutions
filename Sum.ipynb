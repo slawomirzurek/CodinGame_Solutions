{
 "cells": [
  {
   "cell_type": "code",
   "execution_count": null,
   "id": "595f78c9",
   "metadata": {},
   "outputs": [],
   "source": [
    "# Task:\n",
    "# As Logan's 4 year-old daughter is new to maths, she has trouble understanding sums when they are given in a string with numbers in an arbitrary order, such as 3+5+2.\n",
    "# Therefore, her father will help her to understand sums by arranging the numbers of each string in asceding order, such as 2+3+5.\n",
    "# Your job is to help Logan arrange the numbers in asceding order and print the sum in a form that his daughter can understand.\n",
    "# Every number of _sum has a single digit.\n",
    "\n",
    "\n",
    "import sys\n",
    "import math\n",
    "\n",
    "_sum = input()\n",
    "_sum = str(_sum)\n",
    "_sum = _sum.split('+')\n",
    "_sum.sort()\n",
    "_sum = \"+\".join(_sum)\n",
    "print(_sum)"
   ]
  }
 ],
 "metadata": {
  "kernelspec": {
   "display_name": "Python 3",
   "language": "python",
   "name": "python3"
  },
  "language_info": {
   "codemirror_mode": {
    "name": "ipython",
    "version": 3
   },
   "file_extension": ".py",
   "mimetype": "text/x-python",
   "name": "python",
   "nbconvert_exporter": "python",
   "pygments_lexer": "ipython3",
   "version": "3.8.8"
  }
 },
 "nbformat": 4,
 "nbformat_minor": 5
}
