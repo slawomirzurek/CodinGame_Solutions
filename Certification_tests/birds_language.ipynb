{
 "cells": [
  {
   "cell_type": "code",
   "execution_count": null,
   "id": "aff13ecf",
   "metadata": {},
   "outputs": [],
   "source": [
    "import sys, math\n",
    "\n",
    "string = input()\n",
    "L = ['a','e','i','o','u','A','E','I','O','U']\n",
    "s = []\n",
    "for i in string:\n",
    "    if i not in L:\n",
    "       s.append(i) \n",
    "    else:\n",
    "        x = i +'p'+ i\n",
    "        s.append(x)\n",
    "print(''.join(s))"
   ]
  }
 ],
 "metadata": {
  "kernelspec": {
   "display_name": "Python 3",
   "language": "python",
   "name": "python3"
  },
  "language_info": {
   "codemirror_mode": {
    "name": "ipython",
    "version": 3
   },
   "file_extension": ".py",
   "mimetype": "text/x-python",
   "name": "python",
   "nbconvert_exporter": "python",
   "pygments_lexer": "ipython3",
   "version": "3.8.8"
  }
 },
 "nbformat": 4,
 "nbformat_minor": 5
}
