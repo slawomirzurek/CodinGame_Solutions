{
 "cells": [
  {
   "cell_type": "code",
   "execution_count": null,
   "id": "1de4206d",
   "metadata": {},
   "outputs": [],
   "source": [
    "s = 'xxxaa'\n",
    "alphabet = \"abcdefghijklmnopqrstuvwxyz\"\n",
    "\n",
    "for x in s:\n",
    "    for z in alphabet:\n",
    "        if z not in s:\n",
    "            p = 0\n",
    "        else:\n",
    "            p = 1\n",
    "if p == 0:\n",
    "    print('false')\n",
    "else:\n",
    "    print('true')"
   ]
  }
 ],
 "metadata": {
  "kernelspec": {
   "display_name": "Python 3",
   "language": "python",
   "name": "python3"
  },
  "language_info": {
   "codemirror_mode": {
    "name": "ipython",
    "version": 3
   },
   "file_extension": ".py",
   "mimetype": "text/x-python",
   "name": "python",
   "nbconvert_exporter": "python",
   "pygments_lexer": "ipython3",
   "version": "3.8.8"
  }
 },
 "nbformat": 4,
 "nbformat_minor": 5
}
