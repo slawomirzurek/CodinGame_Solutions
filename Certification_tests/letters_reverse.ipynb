{
  "nbformat": 4,
  "nbformat_minor": 0,
  "metadata": {
    "colab": {
      "name": "letters_reverse.ipynb",
      "provenance": []
    },
    "kernelspec": {
      "name": "python3",
      "display_name": "Python 3"
    },
    "language_info": {
      "name": "python"
    }
  },
  "cells": [
    {
      "cell_type": "code",
      "execution_count": null,
      "metadata": {
        "id": "1K19tbQkbAaB"
      },
      "outputs": [],
      "source": [
        "from string import ascii_lowercase\n",
        "word = 'abc'\n",
        "d = dict(zip(ascii_lowercase, ascii_lowercase[::-1]))\n",
        "print(\"\".join(map(lambda x: d[x], word)))"
      ]
    }
  ]
}