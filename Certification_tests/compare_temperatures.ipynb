{
 "cells": [
  {
   "cell_type": "code",
   "execution_count": null,
   "id": "64dff847",
   "metadata": {},
   "outputs": [],
   "source": [
    "n = int(input())\n",
    "s = []\n",
    "m = []\n",
    "for i in range(n):\n",
    "    b, t = [int(j) for j in input().split()]\n",
    "    s.append(b)\n",
    "    m.append(t)\n",
    "\n",
    "m = [t*(9/5) + 32 for t in m]\n",
    "\n",
    "for i,j in zip(s,m):\n",
    "    if i > j:\n",
    "        x = 'Higher'\n",
    "        print(x)\n",
    "    elif i < j:\n",
    "        x = 'Lower'\n",
    "        print(x)\n",
    "    else:\n",
    "        x = 'Same'\n",
    "        print(x)"
   ]
  }
 ],
 "metadata": {
  "kernelspec": {
   "display_name": "Python 3",
   "language": "python",
   "name": "python3"
  },
  "language_info": {
   "codemirror_mode": {
    "name": "ipython",
    "version": 3
   },
   "file_extension": ".py",
   "mimetype": "text/x-python",
   "name": "python",
   "nbconvert_exporter": "python",
   "pygments_lexer": "ipython3",
   "version": "3.8.8"
  }
 },
 "nbformat": 4,
 "nbformat_minor": 5
}
