{
  "nbformat": 4,
  "nbformat_minor": 0,
  "metadata": {
    "colab": {
      "name": "word_reverse.ipynb",
      "provenance": []
    },
    "kernelspec": {
      "name": "python3",
      "display_name": "Python 3"
    },
    "language_info": {
      "name": "python"
    }
  },
  "cells": [
    {
      "cell_type": "code",
      "execution_count": null,
      "metadata": {
        "id": "1K19tbQkbAaB"
      },
      "outputs": [],
      "source": [
        "word = 'Hello world !'\n",
        "x = []\n",
        "\n",
        "for i in word.split(\" \"):\n",
        "  x.append(i)\n",
        "\n",
        "print(\" \".join(x[::-1]))"
      ]
    }
  ]
}