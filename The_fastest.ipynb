{
 "cells": [
  {
   "cell_type": "code",
   "execution_count": null,
   "id": "a9f77cf2",
   "metadata": {},
   "outputs": [],
   "source": [
    "# Task:\n",
    "# Your program must judge results of marathon runners and choose the best one.\n",
    "# The result of each runner is represented as HH:MM:SS, where HH is hours, MM is minutes and SS is seconds.\n",
    "# You are given N results and the smallest time is the best.\n",
    "\n",
    "\n",
    "import sys\n",
    "import math\n",
    "import time\n",
    "\n",
    "n = int(input())\n",
    "lista = []\n",
    "\n",
    "for i in range(n):\n",
    "    p = input()\n",
    "    t = int(p.split(\":\")[0])*3600 + int(p.split(\":\")[1])*60 + int(p.split(\":\")[2])\n",
    "    lista.append(t)\n",
    "    lista.sort()\n",
    "    s = int(str(lista[:1]).replace('[','').replace(']',''))\n",
    "    s = time.strftime('%H:%M:%S', time.gmtime(s))\n",
    "print(s)"
   ]
  }
 ],
 "metadata": {
  "kernelspec": {
   "display_name": "Python 3",
   "language": "python",
   "name": "python3"
  },
  "language_info": {
   "codemirror_mode": {
    "name": "ipython",
    "version": 3
   },
   "file_extension": ".py",
   "mimetype": "text/x-python",
   "name": "python",
   "nbconvert_exporter": "python",
   "pygments_lexer": "ipython3",
   "version": "3.8.8"
  }
 },
 "nbformat": 4,
 "nbformat_minor": 5
}
