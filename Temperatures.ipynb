{
 "cells": [
  {
   "cell_type": "code",
   "execution_count": null,
   "id": "73fe2541",
   "metadata": {},
   "outputs": [],
   "source": [
    "# Task:\n",
    "# Write a program that prints the temperature closest to 0 among input data. \n",
    "# Output should display 0 if no temperature is provided.\n",
    "# If two numbers are equally close to zero, positive integer has to be considered closest to zero (for instance, if the temperatures are -5 and 5, then display 5).\n",
    "\n",
    "\n",
    "import sys\n",
    "import math\n",
    "\n",
    "lista1 = []\n",
    "lista2 = []\n",
    "lista3 = []\n",
    "\n",
    "s1 = 0\n",
    "s2 = 0\n",
    "s3 = 0\n",
    "\n",
    "n = int(input())\n",
    "\n",
    "if not n:\n",
    "    s = '0'\n",
    "else:\n",
    "    for i in input().split():\n",
    "        t = int(i)\n",
    "        if t >= 0:\n",
    "            lista1.append(t)\n",
    "            lista1.sort()\n",
    "            s1 = min(lista1, key=abs)\n",
    "            lista3.append(s1)\n",
    "        elif t < 0:\n",
    "            lista2.append(t)\n",
    "            lista2.sort()\n",
    "            s2 = min(lista2, key=abs)\n",
    "            lista3.append(s2)\n",
    "            s3 = min(lista3, key=abs)\n",
    "\n",
    "    if s1 > s2:\n",
    "        s = s1\n",
    "    else:\n",
    "        s = s3\n",
    "\n",
    "print(s)\n"
   ]
  }
 ],
 "metadata": {
  "kernelspec": {
   "display_name": "Python 3",
   "language": "python",
   "name": "python3"
  },
  "language_info": {
   "codemirror_mode": {
    "name": "ipython",
    "version": 3
   },
   "file_extension": ".py",
   "mimetype": "text/x-python",
   "name": "python",
   "nbconvert_exporter": "python",
   "pygments_lexer": "ipython3",
   "version": "3.8.8"
  }
 },
 "nbformat": 4,
 "nbformat_minor": 5
}
